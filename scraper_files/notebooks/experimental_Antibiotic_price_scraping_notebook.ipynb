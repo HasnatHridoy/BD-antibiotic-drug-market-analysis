{
  "nbformat": 4,
  "nbformat_minor": 0,
  "metadata": {
    "colab": {
      "provenance": [],
      "authorship_tag": "ABX9TyOpUxx2B4EovUQQa2MvuwJQ",
      "include_colab_link": true
    },
    "kernelspec": {
      "name": "python3",
      "display_name": "Python 3"
    },
    "language_info": {
      "name": "python"
    }
  },
  "cells": [
    {
      "cell_type": "markdown",
      "metadata": {
        "id": "view-in-github",
        "colab_type": "text"
      },
      "source": [
        "<a href=\"https://colab.research.google.com/github/HasnatHridoy/BD-antibiotic-drug-market-analysis/blob/main/Antibiotc_price_scraping_notebook.ipynb\" target=\"_parent\"><img src=\"https://colab.research.google.com/assets/colab-badge.svg\" alt=\"Open In Colab\"/></a>"
      ]
    },
    {
      "cell_type": "code",
      "execution_count": null,
      "metadata": {
        "colab": {
          "base_uri": "https://localhost:8080/"
        },
        "id": "4mWOb2aJwwhJ",
        "outputId": "4f972d99-1c07-4299-f9df-3b8e6478da02"
      },
      "outputs": [
        {
          "output_type": "stream",
          "name": "stdout",
          "text": [
            "\u001b[2K   \u001b[90m━━━━━━━━━━━━━━━━━━━━━━━━━━━━━━━━━━━━━━━━\u001b[0m \u001b[32m9.6/9.6 MB\u001b[0m \u001b[31m47.2 MB/s\u001b[0m eta \u001b[36m0:00:00\u001b[0m\n",
            "\u001b[2K   \u001b[90m━━━━━━━━━━━━━━━━━━━━━━━━━━━━━━━━━━━━━━━━\u001b[0m \u001b[32m499.2/499.2 kB\u001b[0m \u001b[31m18.5 MB/s\u001b[0m eta \u001b[36m0:00:00\u001b[0m\n",
            "\u001b[2K   \u001b[90m━━━━━━━━━━━━━━━━━━━━━━━━━━━━━━━━━━━━━━━━\u001b[0m \u001b[32m43.9/43.9 kB\u001b[0m \u001b[31m3.4 MB/s\u001b[0m eta \u001b[36m0:00:00\u001b[0m\n",
            "\u001b[2K   \u001b[90m━━━━━━━━━━━━━━━━━━━━━━━━━━━━━━━━━━━━━━━━\u001b[0m \u001b[32m1.6/1.6 MB\u001b[0m \u001b[31m29.6 MB/s\u001b[0m eta \u001b[36m0:00:00\u001b[0m\n",
            "\u001b[?25h"
          ]
        }
      ],
      "source": [
        "!pip install google-colab-selenium -q"
      ]
    },
    {
      "cell_type": "code",
      "source": [
        "#this driver is specifically used for google colab\n",
        "#please inintialize your driver properly if you want to run it locally\n",
        "import google_colab_selenium as gs\n",
        "driver = gs.Chrome()\n",
        "\n"
      ],
      "metadata": {
        "colab": {
          "base_uri": "https://localhost:8080/",
          "height": 80
        },
        "id": "l_5g7TmQxZKr",
        "outputId": "277f3017-3627-4eb4-b522-b77e2c8f7707"
      },
      "execution_count": null,
      "outputs": [
        {
          "output_type": "display_data",
          "data": {
            "text/plain": [
              "<IPython.core.display.HTML object>"
            ],
            "text/html": [
              "\n",
              "            <div class=\"spinner-container\">\n",
              "                <div class=\"spinner\" id=\"80b9fb47-2a14-4a6a-a19e-41c64b17ce9b-circle\"></div>\n",
              "                <div class=\"spinner-text\" id=\"80b9fb47-2a14-4a6a-a19e-41c64b17ce9b-text\">Updating and upgrading APT</div>\n",
              "            </div>\n",
              "            <style>\n",
              "                @keyframes spin {\n",
              "                    from { transform: rotate(0deg); }\n",
              "                    to { transform: rotate(360deg); }\n",
              "                }\n",
              "\n",
              "                .spinner-container {\n",
              "                    display: flex;\n",
              "                    align-items: center;\n",
              "                    margin-bottom: 3px;\n",
              "                }\n",
              "\n",
              "                .spinner {\n",
              "                    border: 3px solid rgba(0, 0, 0, 0.1);\n",
              "                    border-left-color: lightblue;\n",
              "                    border-radius: 50%;\n",
              "                    width: 12px;\n",
              "                    height: 12px;\n",
              "                    animation: spin 1s linear infinite;\n",
              "                }\n",
              "\n",
              "                .spinner-text {\n",
              "                    padding-left: 6px;\n",
              "                }\n",
              "            </style>\n",
              "        "
            ]
          },
          "metadata": {}
        },
        {
          "output_type": "display_data",
          "data": {
            "text/plain": [
              "<IPython.core.display.Javascript object>"
            ],
            "application/javascript": [
              "\n",
              "            const element = document.getElementById(\"80b9fb47-2a14-4a6a-a19e-41c64b17ce9b-circle\");\n",
              "            element.style.border = \"3px solid limegreen\";\n",
              "            element.style.animation = \"none\";\n",
              "\n",
              "            const text = document.getElementById(\"80b9fb47-2a14-4a6a-a19e-41c64b17ce9b-text\");\n",
              "            text.innerText = \"Updated and upgraded APT\";\n",
              "        "
            ]
          },
          "metadata": {}
        },
        {
          "output_type": "display_data",
          "data": {
            "text/plain": [
              "<IPython.core.display.HTML object>"
            ],
            "text/html": [
              "\n",
              "            <div class=\"spinner-container\">\n",
              "                <div class=\"spinner\" id=\"f422e5b5-25d5-4025-80f3-25d30fe1d565-circle\"></div>\n",
              "                <div class=\"spinner-text\" id=\"f422e5b5-25d5-4025-80f3-25d30fe1d565-text\">Downloading Google Chrome</div>\n",
              "            </div>\n",
              "            <style>\n",
              "                @keyframes spin {\n",
              "                    from { transform: rotate(0deg); }\n",
              "                    to { transform: rotate(360deg); }\n",
              "                }\n",
              "\n",
              "                .spinner-container {\n",
              "                    display: flex;\n",
              "                    align-items: center;\n",
              "                    margin-bottom: 3px;\n",
              "                }\n",
              "\n",
              "                .spinner {\n",
              "                    border: 3px solid rgba(0, 0, 0, 0.1);\n",
              "                    border-left-color: lightblue;\n",
              "                    border-radius: 50%;\n",
              "                    width: 12px;\n",
              "                    height: 12px;\n",
              "                    animation: spin 1s linear infinite;\n",
              "                }\n",
              "\n",
              "                .spinner-text {\n",
              "                    padding-left: 6px;\n",
              "                }\n",
              "            </style>\n",
              "        "
            ]
          },
          "metadata": {}
        },
        {
          "output_type": "display_data",
          "data": {
            "text/plain": [
              "<IPython.core.display.Javascript object>"
            ],
            "application/javascript": [
              "\n",
              "            const element = document.getElementById(\"f422e5b5-25d5-4025-80f3-25d30fe1d565-circle\");\n",
              "            element.style.border = \"3px solid limegreen\";\n",
              "            element.style.animation = \"none\";\n",
              "\n",
              "            const text = document.getElementById(\"f422e5b5-25d5-4025-80f3-25d30fe1d565-text\");\n",
              "            text.innerText = \"Downloaded Google Chrome\";\n",
              "        "
            ]
          },
          "metadata": {}
        },
        {
          "output_type": "display_data",
          "data": {
            "text/plain": [
              "<IPython.core.display.HTML object>"
            ],
            "text/html": [
              "\n",
              "            <div class=\"spinner-container\">\n",
              "                <div class=\"spinner\" id=\"6a717e13-3d15-4250-8209-cb92b9f72d3d-circle\"></div>\n",
              "                <div class=\"spinner-text\" id=\"6a717e13-3d15-4250-8209-cb92b9f72d3d-text\">Initializing Chromedriver</div>\n",
              "            </div>\n",
              "            <style>\n",
              "                @keyframes spin {\n",
              "                    from { transform: rotate(0deg); }\n",
              "                    to { transform: rotate(360deg); }\n",
              "                }\n",
              "\n",
              "                .spinner-container {\n",
              "                    display: flex;\n",
              "                    align-items: center;\n",
              "                    margin-bottom: 3px;\n",
              "                }\n",
              "\n",
              "                .spinner {\n",
              "                    border: 3px solid rgba(0, 0, 0, 0.1);\n",
              "                    border-left-color: lightblue;\n",
              "                    border-radius: 50%;\n",
              "                    width: 12px;\n",
              "                    height: 12px;\n",
              "                    animation: spin 1s linear infinite;\n",
              "                }\n",
              "\n",
              "                .spinner-text {\n",
              "                    padding-left: 6px;\n",
              "                }\n",
              "            </style>\n",
              "        "
            ]
          },
          "metadata": {}
        },
        {
          "output_type": "display_data",
          "data": {
            "text/plain": [
              "<IPython.core.display.Javascript object>"
            ],
            "application/javascript": [
              "\n",
              "            const element = document.getElementById(\"6a717e13-3d15-4250-8209-cb92b9f72d3d-circle\");\n",
              "            element.style.border = \"3px solid limegreen\";\n",
              "            element.style.animation = \"none\";\n",
              "\n",
              "            const text = document.getElementById(\"6a717e13-3d15-4250-8209-cb92b9f72d3d-text\");\n",
              "            text.innerText = \"Initialized Chromedriver\";\n",
              "        "
            ]
          },
          "metadata": {}
        }
      ]
    },
    {
      "cell_type": "code",
      "source": [
        "import pandas as pd\n",
        "from selenium.webdriver.common.by import By\n",
        "from selenium.webdriver.support.ui import WebDriverWait\n",
        "from selenium.webdriver.support import expected_conditions as EC\n",
        "import time"
      ],
      "metadata": {
        "id": "EN5cQHoKqX9g"
      },
      "execution_count": null,
      "outputs": []
    },
    {
      "cell_type": "code",
      "source": [
        "# -------------- scraping part -----------------"
      ],
      "metadata": {
        "id": "NjbzVPhYPCnx"
      },
      "execution_count": null,
      "outputs": []
    },
    {
      "cell_type": "code",
      "source": [
        "#link scraper function\n",
        "\n",
        "def link_scraper(links):\n",
        "\n",
        "  if isinstance(links, str):\n",
        "    links = [links]\n",
        "\n",
        "  linking = []\n",
        "\n",
        "  for link in links:\n",
        "\n",
        "    driver.get(link)\n",
        "    print(f'working on {driver.current_url}')\n",
        "\n",
        "    try:\n",
        "\n",
        "      div_elements = wait.until(\n",
        "          EC.presence_of_all_elements_located((By.CSS_SELECTOR, \".col-xs-12.col-sm-6 a\"))\n",
        "      )\n",
        "\n",
        "      # Extract href\n",
        "      for element in div_elements:\n",
        "          linking.append(element.get_attribute(\"href\"))\n",
        "\n",
        "    except Exception as e:\n",
        "      print(f\"An error occurred while scraping links: {e}\")\n",
        "\n",
        "  return linking"
      ],
      "metadata": {
        "id": "zHj0oPKeBHBL"
      },
      "execution_count": null,
      "outputs": []
    },
    {
      "cell_type": "code",
      "source": [
        "wait = WebDriverWait(driver, 10)"
      ],
      "metadata": {
        "id": "lrRg8Xd7phGr"
      },
      "execution_count": null,
      "outputs": []
    },
    {
      "cell_type": "code",
      "source": [
        "try:\n",
        "\n",
        "  driver.get(\"https://medex.com.bd/drug-classes\")\n",
        "  print(f\"Successfully navigated to: {driver.current_url}\")\n",
        "\n",
        "except Exception as e:\n",
        "    print(f\"An error occurred: {e}\")"
      ],
      "metadata": {
        "colab": {
          "base_uri": "https://localhost:8080/"
        },
        "id": "ToGCXN2gGniv",
        "outputId": "ab755952-90ab-43af-8c84-4732bf59bd5e"
      },
      "execution_count": null,
      "outputs": [
        {
          "output_type": "stream",
          "name": "stdout",
          "text": [
            "Successfully navigated to: https://medex.com.bd/drug-classes\n"
          ]
        }
      ]
    },
    {
      "cell_type": "code",
      "source": [
        "try:\n",
        "    # click antimicrobial button\n",
        "    antibio_button = wait.until(\n",
        "        EC.element_to_be_clickable((By.LINK_TEXT, \"Antimicrobial drugs\"))\n",
        "    )\n",
        "\n",
        "    antibio_button.click()\n",
        "\n",
        "    url = driver.current_url\n",
        "    print(f\"Successfully navigated to: {driver.current_url}\")\n",
        "\n",
        "\n",
        "except Exception as e:\n",
        "    print(f\"An error occurred: {e}\")"
      ],
      "metadata": {
        "id": "cAgjlh1HqZg8",
        "colab": {
          "base_uri": "https://localhost:8080/"
        },
        "outputId": "a8b33d43-e5d7-4d31-a83e-115245be65ab"
      },
      "execution_count": null,
      "outputs": [
        {
          "output_type": "stream",
          "name": "stdout",
          "text": [
            "Successfully navigated to: https://medex.com.bd/drug-classes/3/antimicrobial-drugs\n"
          ]
        }
      ]
    },
    {
      "cell_type": "code",
      "source": [
        "links= link_scraper(url)"
      ],
      "metadata": {
        "colab": {
          "base_uri": "https://localhost:8080/"
        },
        "id": "EHK1mKwIBngp",
        "outputId": "010d6e2e-4e75-4af6-901a-55ebf2b9b81f"
      },
      "execution_count": null,
      "outputs": [
        {
          "output_type": "stream",
          "name": "stdout",
          "text": [
            "working on https://medex.com.bd/drug-classes/3/antimicrobial-drugs\n"
          ]
        }
      ]
    },
    {
      "cell_type": "code",
      "source": [
        "links_2 = link_scraper(links[0])"
      ],
      "metadata": {
        "colab": {
          "base_uri": "https://localhost:8080/"
        },
        "id": "BR8y_GZZBteJ",
        "outputId": "48d5aa9e-f977-4a68-9854-9bdc40132bef"
      },
      "execution_count": null,
      "outputs": [
        {
          "output_type": "stream",
          "name": "stdout",
          "text": [
            "working on https://medex.com.bd/drug-classes/50/drugs-for-bacterial-infections-anti-bacterial\n"
          ]
        }
      ]
    },
    {
      "cell_type": "code",
      "source": [
        "links_interm = link_scraper(links_2)"
      ],
      "metadata": {
        "colab": {
          "base_uri": "https://localhost:8080/"
        },
        "id": "DlDVOpkIMUQo",
        "outputId": "6eafcd31-db87-4d58-c9b7-6191a8b7d9b0"
      },
      "execution_count": null,
      "outputs": [
        {
          "output_type": "stream",
          "name": "stdout",
          "text": [
            "working on https://medex.com.bd/drug-classes/55/4-quinolone-preparations\n",
            "working on https://medex.com.bd/drug-classes/56/aminoglycosides\n",
            "working on https://medex.com.bd/drug-classes/57/anti-leprotic-drugs\n",
            "working on https://medex.com.bd/drug-classes/58/anti-tubercular-antibiotics\n",
            "working on https://medex.com.bd/drug-classes/59/anti-tubercular-chemotherapeutics\n",
            "working on https://medex.com.bd/drug-classes/60/benzylpenicillin-phenoxymethyl-penicillin\n",
            "working on https://medex.com.bd/drug-classes/61/broad-spectrum-penicillins\n",
            "working on https://medex.com.bd/drug-classes/62/combined-anti-tubercular-preparations\n",
            "working on https://medex.com.bd/drug-classes/566/ear-anti-infectives-antiseptics\n",
            "working on https://medex.com.bd/drug-classes/565/eye-anti-infectives-antiseptics\n",
            "working on https://medex.com.bd/drug-classes/675/fifth-generation-cephalosporins\n",
            "working on https://medex.com.bd/drug-classes/63/first-generation-cephalosporins\n",
            "working on https://medex.com.bd/drug-classes/64/fourth-generation-cephalosporins\n",
            "working on https://medex.com.bd/drug-classes/648/glycopeptide\n",
            "working on https://medex.com.bd/drug-classes/68/intracellular-antibiotic\n",
            "working on https://medex.com.bd/drug-classes/65/long-acting-penicillin\n",
            "working on https://medex.com.bd/drug-classes/66/macrolides\n",
            "working on https://medex.com.bd/drug-classes/67/mecillinams\n",
            "working on https://medex.com.bd/drug-classes/610/other-antibacterial-preparation\n",
            "working on https://medex.com.bd/drug-classes/618/other-antibiotic\n",
            "working on https://medex.com.bd/drug-classes/69/other-beta-lactam-antibiotics\n",
            "working on https://medex.com.bd/drug-classes/71/penicillinase-resistant-penicillins\n",
            "working on https://medex.com.bd/drug-classes/72/second-generation-cephalosporins\n",
            "working on https://medex.com.bd/drug-classes/73/sulphonamides-trimethoprim\n",
            "working on https://medex.com.bd/drug-classes/74/tetracycline-group-of-drugs\n",
            "working on https://medex.com.bd/drug-classes/75/third-generation-cephalosporins\n"
          ]
        }
      ]
    },
    {
      "cell_type": "code",
      "source": [
        "#two links have sublinks, they need to extract separately\n",
        "links_workable = links_interm.copy()\n",
        "link_pop = []\n",
        "\n",
        "for link in links_interm:\n",
        "\n",
        "  if 'other-antibiotic' in link or 'probiotic' in link:\n",
        "    link_pop.append(link)\n",
        "    links_workable.remove(link)\n"
      ],
      "metadata": {
        "id": "HU_FZIeBJ6Zv"
      },
      "execution_count": null,
      "outputs": []
    },
    {
      "cell_type": "code",
      "source": [
        "links_pop = link_scraper(link_pop)"
      ],
      "metadata": {
        "colab": {
          "base_uri": "https://localhost:8080/"
        },
        "id": "Oi5QYvh1Omym",
        "outputId": "f3907f54-8433-4de5-a80a-75f0cb850f93"
      },
      "execution_count": null,
      "outputs": [
        {
          "output_type": "stream",
          "name": "stdout",
          "text": [
            "working on https://medex.com.bd/drug-classes/619/other-antibiotic\n",
            "working on https://medex.com.bd/drug-classes/657/probiotic\n"
          ]
        }
      ]
    },
    {
      "cell_type": "code",
      "source": [
        "links_workable.extend(links_pop)"
      ],
      "metadata": {
        "id": "m6NCiuXUOr3v"
      },
      "execution_count": null,
      "outputs": []
    },
    {
      "cell_type": "code",
      "metadata": {
        "colab": {
          "base_uri": "https://localhost:8080/"
        },
        "id": "85725ec4",
        "outputId": "cea15338-b9da-44d9-a1be-2efdc6f67c18"
      },
      "source": [
        "#some links have duplicate\n",
        "from collections import Counter\n",
        "\n",
        "item_counts = Counter(links_workable) #count\n",
        "\n",
        "duplicates = [item for item, count in item_counts.items() if count > 1]\n",
        "\n",
        "if duplicates:\n",
        "  print(\"duplicates:\")\n",
        "  for duplicate in duplicates:\n",
        "    print(duplicate)\n",
        "else:\n",
        "  print(\"Nill\")"
      ],
      "execution_count": null,
      "outputs": [
        {
          "output_type": "stream",
          "name": "stdout",
          "text": [
            "duplicates:\n",
            "https://medex.com.bd/generics/890/piperacillin-tazobactam\n",
            "https://medex.com.bd/generics/237/chloramphenicol-ophthalmic\n",
            "https://medex.com.bd/generics/851/oxytetracycline\n"
          ]
        }
      ]
    },
    {
      "cell_type": "code",
      "source": [
        "links_workable = list(set(links_workable))"
      ],
      "metadata": {
        "id": "TJxv_5bgPr4Y"
      },
      "execution_count": null,
      "outputs": []
    },
    {
      "cell_type": "code",
      "source": [
        "len(links_workable)"
      ],
      "metadata": {
        "colab": {
          "base_uri": "https://localhost:8080/"
        },
        "id": "-Cl_LERoPv2M",
        "outputId": "6239f90d-afd6-4e56-9ea8-102ae42bc87a"
      },
      "execution_count": null,
      "outputs": [
        {
          "output_type": "execute_result",
          "data": {
            "text/plain": [
              "99"
            ]
          },
          "metadata": {},
          "execution_count": 38
        }
      ]
    },
    {
      "cell_type": "code",
      "source": [
        "data_extract =[]"
      ],
      "metadata": {
        "id": "3WhtSVL-QQyF"
      },
      "execution_count": null,
      "outputs": []
    },
    {
      "cell_type": "code",
      "source": [
        "try:\n",
        "\n",
        "  for link in links_workable:\n",
        "\n",
        "    parts = link.split('/')\n",
        "    generic_name = parts[-1]\n",
        "\n",
        "    driver.get(link+'/brand-names')\n",
        "    print(f'working on {driver.current_url}')\n",
        "\n",
        "\n",
        "\n",
        "    table = driver.find_element(By.CLASS_NAME, 'table.gg-table.bindex-table')\n",
        "    rows = table.find_elements(By.TAG_NAME, 'tr')\n",
        "\n",
        "    for row in rows:\n",
        "      cells = row.find_elements(By.TAG_NAME, 'td')\n",
        "\n",
        "      if not cells:\n",
        "          continue\n",
        "\n",
        "      brand_name = cells[0].text\n",
        "      dosage_form = cells[1].text\n",
        "      strength = cells[2].text\n",
        "      company = cells[3].text\n",
        "      price_pack = cells[4].text\n",
        "\n",
        "      data_extract.append([generic_name, brand_name, dosage_form, strength, company, price_pack])\n",
        "\n",
        "except Exception as e:\n",
        "    print(f\"An error occurred while scraping links: {e}\")\n",
        "\n",
        "\n"
      ],
      "metadata": {
        "colab": {
          "base_uri": "https://localhost:8080/"
        },
        "id": "EcknXwrYPz8I",
        "outputId": "ace8264a-3335-4da3-d9a1-a53a7146a2ab"
      },
      "execution_count": null,
      "outputs": [
        {
          "output_type": "stream",
          "name": "stdout",
          "text": [
            "working on https://medex.com.bd/generics/231/cephalexin/brand-names\n",
            "working on https://medex.com.bd/generics/1876/probiotic-combination-14-strains/brand-names\n",
            "working on https://medex.com.bd/generics/110/benzathine-penicillin/brand-names\n",
            "working on https://medex.com.bd/generics/2069/probiotic-combination-23-billion/brand-names\n",
            "working on https://medex.com.bd/generics/836/ofloxacin/brand-names\n",
            "working on https://medex.com.bd/generics/1061/thalidomide/brand-names\n",
            "working on https://medex.com.bd/generics/209/cefaclor-monohydrate/brand-names\n",
            "working on https://medex.com.bd/generics/388/doripenem/brand-names\n",
            "working on https://medex.com.bd/generics/255/imipenem-cilastatin/brand-names\n",
            "working on https://medex.com.bd/generics/439/rifampicin-isoniazid-pyrazinamide-ethambutol/brand-names\n",
            "working on https://medex.com.bd/generics/2456/probiotic-combination-bi-07-10-billion/brand-names\n",
            "working on https://medex.com.bd/generics/225/ceftriaxone-sodium/brand-names\n",
            "working on https://medex.com.bd/generics/220/cefpodoxime-proxetil/brand-names\n",
            "working on https://medex.com.bd/generics/210/cefadroxil-monohydrate/brand-names\n",
            "working on https://medex.com.bd/generics/240/chlorhexidine-gluconate-02/brand-names\n",
            "working on https://medex.com.bd/generics/273/clindamycin/brand-names\n",
            "working on https://medex.com.bd/generics/890/piperacillin-tazobactam/brand-names\n",
            "working on https://medex.com.bd/generics/427/erythromycin-oral/brand-names\n",
            "working on https://medex.com.bd/generics/680/levofloxacin-hemihydrate/brand-names\n",
            "working on https://medex.com.bd/generics/1588/clindamycin-lotion/brand-names\n",
            "working on https://medex.com.bd/generics/2298/saccharomyces-boulardii-lactobacillus-rhamnosus-zinc/brand-names\n",
            "working on https://medex.com.bd/generics/1601/minocycline-hydrochloride/brand-names\n",
            "working on https://medex.com.bd/generics/218/cefotaxime/brand-names\n",
            "working on https://medex.com.bd/generics/237/chloramphenicol-ophthalmic/brand-names\n",
            "working on https://medex.com.bd/generics/2332/ceftaroline-fosamil/brand-names\n",
            "working on https://medex.com.bd/generics/1012/sparfloxacin/brand-names\n",
            "working on https://medex.com.bd/generics/693/lomefloxacin/brand-names\n",
            "working on https://medex.com.bd/generics/1625/moxifloxacin-hydrochloride-injection/brand-names\n",
            "working on https://medex.com.bd/generics/292/cloxacillin-sodium/brand-names\n",
            "working on https://medex.com.bd/generics/1182/gemifloxacin/brand-names\n",
            "working on https://medex.com.bd/generics/2042/probiotic-combination-hn019-10-billion/brand-names\n",
            "working on https://medex.com.bd/generics/394/doxycycline-hydrochloride/brand-names\n",
            "working on https://medex.com.bd/generics/1374/fosfomycin-trometamol/brand-names\n",
            "working on https://medex.com.bd/generics/956/rifampicin/brand-names\n",
            "working on https://medex.com.bd/generics/1834/clindamycin-vaginal-cream/brand-names\n",
            "working on https://medex.com.bd/generics/1181/sodium-fusidate-oral/brand-names\n",
            "working on https://medex.com.bd/generics/1060/tetracycline-hydrochloride/brand-names\n",
            "working on https://medex.com.bd/generics/224/ceftibuten-dihydrate/brand-names\n",
            "working on https://medex.com.bd/generics/2310/bacillus-subtilis-hu58/brand-names\n",
            "working on https://medex.com.bd/generics/1395/tedizolid-phosphate/brand-names\n",
            "working on https://medex.com.bd/generics/100/azithromycin-dihydrate/brand-names\n",
            "working on https://medex.com.bd/generics/1823/isopropyl-alcohol/brand-names\n",
            "working on https://medex.com.bd/generics/1664/dequalinium-chloride/brand-names\n",
            "working on https://medex.com.bd/generics/1498/probiotic-combination-4-billion/brand-names\n",
            "working on https://medex.com.bd/generics/2409/probiotic-prebiotic-vitamin-k2-7/brand-names\n",
            "working on https://medex.com.bd/generics/1077/teicoplanin/brand-names\n",
            "working on https://medex.com.bd/generics/232/cephradine/brand-names\n",
            "working on https://medex.com.bd/generics/1865/azithromycin-dihydrate-ophthalmic/brand-names\n",
            "working on https://medex.com.bd/generics/215/cefepime-hydrochloride/brand-names\n",
            "working on https://medex.com.bd/generics/1014/spiramycin/brand-names\n",
            "working on https://medex.com.bd/generics/1164/betamethasone-phenylephrine-lignocaine/brand-names\n",
            "working on https://medex.com.bd/generics/1847/chloramphenicol-oral/brand-names\n",
            "working on https://medex.com.bd/generics/704/lymecycline/brand-names\n",
            "working on https://medex.com.bd/generics/1454/cefazolin-sodium/brand-names\n",
            "working on https://medex.com.bd/generics/851/oxytetracycline/brand-names\n",
            "working on https://medex.com.bd/generics/1090/tobramycin-nebuliser-solution/brand-names\n",
            "working on https://medex.com.bd/generics/1493/chlorhexidine-gluconate-1/brand-names\n",
            "working on https://medex.com.bd/generics/776/moxifloxacin-hydrochloride-tablet/brand-names\n",
            "working on https://medex.com.bd/generics/957/rifaximin/brand-names\n",
            "working on https://medex.com.bd/generics/894/pivmecillinam/brand-names\n",
            "working on https://medex.com.bd/generics/1910/colistin-sulfate-veterinary/brand-names\n",
            "working on https://medex.com.bd/generics/1505/gentamicin-sulfate-injection/brand-names\n",
            "working on https://medex.com.bd/generics/1817/polymyxin-b-sulfate/brand-names\n",
            "working on https://medex.com.bd/generics/1024/sulphamethoxazole-trimethoprim/brand-names\n",
            "working on https://medex.com.bd/generics/636/rifampicin-isoniazid/brand-names\n",
            "working on https://medex.com.bd/generics/1474/bacillus-clausii-spores/brand-names\n",
            "working on https://medex.com.bd/generics/881/phenoxymethyl-penicillin-penicillin-v/brand-names\n",
            "working on https://medex.com.bd/generics/2070/probiotic-combination-2-billion/brand-names\n",
            "working on https://medex.com.bd/generics/1070/tigecycline/brand-names\n",
            "working on https://medex.com.bd/generics/473/flucloxacillin-sodium/brand-names\n",
            "working on https://medex.com.bd/generics/1013/spectinomycin/brand-names\n",
            "working on https://medex.com.bd/generics/2096/lefamulin-acetate/brand-names\n",
            "working on https://medex.com.bd/generics/223/ceftazidime-pentahydrate/brand-names\n",
            "working on https://medex.com.bd/generics/263/ciprofloxacin/brand-names\n",
            "working on https://medex.com.bd/generics/54/amikacin/brand-names\n",
            "working on https://medex.com.bd/generics/1975/delafloxacin/brand-names\n",
            "working on https://medex.com.bd/generics/1824/probiotic-combination-9-billion/brand-names\n",
            "working on https://medex.com.bd/generics/866/pefloxacin-mesylate-dihydrate/brand-names\n",
            "working on https://medex.com.bd/generics/1313/levofloxacin-ophthalmic/brand-names\n",
            "working on https://medex.com.bd/generics/211/cefdinir/brand-names\n",
            "working on https://medex.com.bd/generics/70/amoxicillin-clavulanic-acid/brand-names\n",
            "working on https://medex.com.bd/generics/101/aztreonam/brand-names\n",
            "working on https://medex.com.bd/generics/221/cefpodoxime-proxetil-clavulanic-acid/brand-names\n",
            "working on https://medex.com.bd/generics/688/linezolid/brand-names\n",
            "working on https://medex.com.bd/generics/1494/chlorhexidine-gluconate-4/brand-names\n",
            "working on https://medex.com.bd/generics/508/fusidic-acid/brand-names\n",
            "working on https://medex.com.bd/generics/1614/probiotic-combination-20-billion/brand-names\n",
            "working on https://medex.com.bd/generics/438/ethambutol/brand-names\n",
            "working on https://medex.com.bd/generics/69/amoxicillin-trihydrate/brand-names\n",
            "working on https://medex.com.bd/generics/2088/fosfomycin-sodium/brand-names\n",
            "working on https://medex.com.bd/generics/1262/ertapenem/brand-names\n",
            "working on https://medex.com.bd/generics/212/cefditoren/brand-names\n",
            "working on https://medex.com.bd/generics/226/cefuroxime-axetil/brand-names\n",
            "working on https://medex.com.bd/generics/1415/cefoperazone-sodium/brand-names\n",
            "working on https://medex.com.bd/generics/971/roxithromycin/brand-names\n",
            "working on https://medex.com.bd/generics/1118/vancomycin-hydrochloride/brand-names\n",
            "working on https://medex.com.bd/generics/731/meropenem-trihydrate/brand-names\n",
            "working on https://medex.com.bd/generics/271/clarithromycin/brand-names\n",
            "working on https://medex.com.bd/generics/1429/colistimethate-sodium/brand-names\n"
          ]
        }
      ]
    },
    {
      "cell_type": "code",
      "source": [
        "#--------------------- Data preprocessing part -----------------------"
      ],
      "metadata": {
        "id": "HkmExLcNQ3_8"
      },
      "execution_count": null,
      "outputs": []
    },
    {
      "cell_type": "code",
      "source": [
        "import re"
      ],
      "metadata": {
        "id": "Jr4Tmf1oRwG-"
      },
      "execution_count": null,
      "outputs": []
    },
    {
      "cell_type": "code",
      "source": [
        "#striper function\n",
        "\n",
        "def extract_price(text):\n",
        "    #price_unit\n",
        "    match = re.search(r'৳\\s*([\\d,.]+)', text)\n",
        "    if match:\n",
        "        return float(match.group(1).replace(',', ''))\n",
        "    return None\n",
        "\n",
        "def extract_strip_price(text):\n",
        "    #strip price\n",
        "    match = re.search(r'\\([^)]*৳\\s*([\\d,.]+)\\)', text)\n",
        "    if match:\n",
        "        return float(match.group(1).replace(',', ''))\n",
        "    return None\n",
        "\n",
        "def extract_pack_size(text):\n",
        "    #pack\n",
        "\n",
        "    # Case 1: \"A x B\" format\n",
        "    match = re.search(r'\\((\\d+\\s*x\\s*\\d+)', text)\n",
        "    if match:\n",
        "        return match.group(1).strip() + \" pcs\"\n",
        "\n",
        "    # Case 2: numeric + unit format\n",
        "    match = re.search(r\"(\\d+\\s*[a-zA-Z/%']+)\", text, re.IGNORECASE)\n",
        "    if match:\n",
        "        return match.group(1).strip()\n",
        "\n",
        "    return None\n",
        "\n",
        "def extract_pack_type(text):\n",
        "    #pck_type\n",
        "\n",
        "    match = re.search(r'\\b(bottle|tube|sachet|vial|ampoule|refill|pack|drop)\\b', text, re.IGNORECASE)\n",
        "    if match:\n",
        "        return match.group(1).lower()\n",
        "\n",
        "    # If multiplicative pattern exists, assume strip\n",
        "    if re.search(r'\\d+\\s*x\\s*\\d+', text):\n",
        "        return \"strip\""
      ],
      "metadata": {
        "id": "MKz-Udt5CYNm"
      },
      "execution_count": null,
      "outputs": []
    },
    {
      "cell_type": "code",
      "source": [
        "# preprocessing main function\n",
        "def process_data(data):\n",
        "    processed = []\n",
        "    for row in data:\n",
        "        pack_price_text = row[5]\n",
        "\n",
        "        price = extract_price(pack_price_text)\n",
        "        strip_price = extract_strip_price(pack_price_text)\n",
        "        pack_size = extract_pack_size(pack_price_text)\n",
        "        pack_type = extract_pack_type(pack_price_text)\n",
        "\n",
        "        processed.append(row + [price, strip_price, pack_size, pack_type])\n",
        "    return processed\n"
      ],
      "metadata": {
        "id": "9pe7aCbfD6Qy"
      },
      "execution_count": null,
      "outputs": []
    },
    {
      "cell_type": "code",
      "source": [
        "un_list = data_extract.copy()"
      ],
      "metadata": {
        "id": "9Ifui9VLR2OC"
      },
      "execution_count": null,
      "outputs": []
    },
    {
      "cell_type": "code",
      "source": [
        "pro_list = []"
      ],
      "metadata": {
        "id": "ucHb_nP-fa3Q"
      },
      "execution_count": null,
      "outputs": []
    },
    {
      "cell_type": "code",
      "source": [
        "for item in un_list:\n",
        "  regular_info = item[:5]\n",
        "  pack_price_str = item[5]\n",
        "\n",
        "  if '\\n' in pack_price_str:\n",
        "    pp_entry = pack_price_str.split('\\n')\n",
        "\n",
        "    for entry in pp_entry:\n",
        "      pro_list.append(regular_info + [entry])\n",
        "\n",
        "  else:\n",
        "    pro_list.append(item)"
      ],
      "metadata": {
        "id": "Y-Frz6aTqGWL"
      },
      "execution_count": null,
      "outputs": []
    },
    {
      "cell_type": "code",
      "source": [
        "final_data_2 = process_data(pro_list)"
      ],
      "metadata": {
        "id": "AXlLCyO-EIYR"
      },
      "execution_count": null,
      "outputs": []
    },
    {
      "cell_type": "code",
      "source": [
        "column_names = ['generics', 'product_name', 'dosage_form', 'strength', 'company', 'ref_p&p', 'unit_price','strip_price','pack_size','pack_type']\n",
        "df_2 = pd.DataFrame(final_data_2, columns=column_names)"
      ],
      "metadata": {
        "id": "HdK8a71-EeS7"
      },
      "execution_count": null,
      "outputs": []
    },
    {
      "cell_type": "code",
      "source": [
        "df_2 = df_2.drop('ref_p&p', axis=1)"
      ],
      "metadata": {
        "id": "VqAL4z75IGTX"
      },
      "execution_count": null,
      "outputs": []
    },
    {
      "cell_type": "code",
      "source": [
        "df_2.to_csv('extracted_data.csv', index=False)"
      ],
      "metadata": {
        "id": "a72C2tLgIIEw"
      },
      "execution_count": null,
      "outputs": []
    }
  ]
}
